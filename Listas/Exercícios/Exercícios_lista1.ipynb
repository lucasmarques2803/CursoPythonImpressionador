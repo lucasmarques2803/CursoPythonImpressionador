{
 "cells": [
  {
   "cell_type": "markdown",
   "metadata": {},
   "source": [
    "# Exercícios\n",
    "\n",
    "## 1. Faturamento do Melhor e do Pior Mês do Ano\n",
    "\n",
    "Qual foi o valor de vendas do melhor mês do Ano?\n",
    "E valor do pior mês do ano?"
   ]
  },
  {
   "cell_type": "code",
   "execution_count": 1,
   "metadata": {},
   "outputs": [],
   "source": [
    "meses = ['jan', 'fev', 'mar', 'abr', 'mai', 'jun', 'jul', 'ago', 'set', 'out', 'nov', 'dez']\n",
    "vendas_1sem = [25000, 29000, 22200, 17750, 15870, 19900]\n",
    "vendas_2sem = [19850, 20120, 17540, 15555, 49051, 9650]\n",
    "\n",
    "#melhor mês do ano foi nov e o pior foi dez"
   ]
  },
  {
   "cell_type": "markdown",
   "metadata": {},
   "source": [
    "## 2. Continuação\n",
    "\n",
    "Agora relacione as duas listas para printar 'O melhor mês do ano foi {} com {} vendas' e o mesmo para o pior mês do ano.\n",
    "\n",
    "Calcule também o faturamento total do Ano e quanto que o melhor mês representou do faturamento total.\n",
    "\n",
    "Obs: Para o faturamento total, pode usar a função sum(lista) que soma todos os itens de uma lista"
   ]
  },
  {
   "cell_type": "code",
   "execution_count": 21,
   "metadata": {},
   "outputs": [
    {
     "name": "stdout",
     "output_type": "stream",
     "text": [
      "O melhor mês do ano foi \"nov\" com R$49,051 em vendas, enquanto o pior mês do ano foi \"dez\" com R$9,650 em vendas!\n",
      "\n",
      "Além disso, o faturamento total foi de R$261,486, sendo 18.76% correspondentes ao mês de nov\n"
     ]
    }
   ],
   "source": [
    "vendas = vendas_1sem + vendas_2sem\n",
    "\n",
    "max_value = max(vendas)\n",
    "max_mes = meses[vendas.index(max_value)]\n",
    "min_value = min(vendas)\n",
    "min_mes = meses[vendas.index(min_value)]\n",
    "\n",
    "fat_total = sum(vendas)\n",
    "porcao_melhor_mes = max_value/fat_total\n",
    "\n",
    "print('O melhor mês do ano foi \"{}\" com R${:,} em vendas, enquanto o pior mês do ano foi \"{}\" com R${:,} em vendas!'.format(max_mes,\n",
    "                                                                                                                 max_value, \n",
    "                                                                                                                 min_mes,\n",
    "                                                                                                                 min_value))\n",
    "\n",
    "print('\\nAlém disso, o faturamento total foi de R${:,}, sendo {:.2%} correspondentes ao mês de {}'.format(fat_total, \n",
    "                                                                                                      porcao_melhor_mes, \n",
    "                                                                                                      max_mes))"
   ]
  },
  {
   "cell_type": "markdown",
   "metadata": {},
   "source": [
    "## 3. Crie uma lista com o top 3 valores de vendas do ano (sem fazer \"no olho\")\n",
    "\n",
    "Dica: o método remove retira um item da lista."
   ]
  },
  {
   "cell_type": "code",
   "execution_count": 23,
   "metadata": {},
   "outputs": [
    {
     "name": "stdout",
     "output_type": "stream",
     "text": [
      "[49051, 29000, 25000]\n"
     ]
    }
   ],
   "source": [
    "vendas.sort()\n",
    "top3 = []\n",
    "for i in range(3):\n",
    "    top3.append(vendas.pop())\n",
    "    \n",
    "print(top3)\n",
    "    "
   ]
  }
 ],
 "metadata": {
  "kernelspec": {
   "display_name": "Python 3 (ipykernel)",
   "language": "python",
   "name": "python3"
  },
  "language_info": {
   "codemirror_mode": {
    "name": "ipython",
    "version": 3
   },
   "file_extension": ".py",
   "mimetype": "text/x-python",
   "name": "python",
   "nbconvert_exporter": "python",
   "pygments_lexer": "ipython3",
   "version": "3.9.7"
  }
 },
 "nbformat": 4,
 "nbformat_minor": 4
}
