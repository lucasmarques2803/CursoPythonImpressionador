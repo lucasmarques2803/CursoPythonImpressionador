{
 "cells": [
  {
   "cell_type": "markdown",
   "metadata": {
    "id": "E4cdTJG7NTq3"
   },
   "source": [
    "# Desafio Python e E-mail\n",
    "\n",
    "### Descrição\n",
    "\n",
    "Digamos que você trabalha em uma indústria e está responsável pela área de inteligência de negócio.\n",
    "\n",
    "Todo dia, você, a equipe ou até mesmo um programa, gera um report diferente para cada área da empresa:\n",
    "- Financeiro\n",
    "- Logística\n",
    "- Manutenção\n",
    "- Marketing\n",
    "- Operações\n",
    "- Produção\n",
    "- Vendas\n",
    "\n",
    "Cada um desses reports deve ser enviado por e-mail para o Gerente de cada Área.\n",
    "\n",
    "Crie um programa que faça isso automaticamente. A relação de Gerentes (com seus respectivos e-mails) e áreas está no arquivo 'Enviar E-mails.xlsx'.\n",
    "\n",
    "Dica: Use o pandas read_excel para ler o arquivo dos e-mails que isso vai facilitar."
   ]
  },
  {
   "cell_type": "code",
   "execution_count": null,
   "metadata": {
    "id": "O3QQdhePNTq4"
   },
   "outputs": [],
   "source": [
    "# Imports\n",
    "import win32com.client as win32\n",
    "import pandas as pd\n",
    "\n",
    "outlook = win32.Dispatch('outlook.application')"
   ]
  },
  {
   "cell_type": "code",
   "execution_count": null,
   "metadata": {},
   "outputs": [],
   "source": [
    "# Resolução\n",
    "gerentes_df = pd.read_exe"
   ]
  }
 ],
 "metadata": {
  "colab": {
   "collapsed_sections": [],
   "name": "Desafio Python com Email 01.ipynb",
   "provenance": []
  },
  "kernelspec": {
   "display_name": "Python 3 (ipykernel)",
   "language": "python",
   "name": "python3"
  },
  "language_info": {
   "codemirror_mode": {
    "name": "ipython",
    "version": 3
   },
   "file_extension": ".py",
   "mimetype": "text/x-python",
   "name": "python",
   "nbconvert_exporter": "python",
   "pygments_lexer": "ipython3",
   "version": "3.9.7"
  }
 },
 "nbformat": 4,
 "nbformat_minor": 1
}
