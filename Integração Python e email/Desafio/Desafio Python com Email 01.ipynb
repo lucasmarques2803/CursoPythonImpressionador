{
 "cells": [
  {
   "cell_type": "markdown",
   "metadata": {
    "id": "E4cdTJG7NTq3"
   },
   "source": [
    "# Desafio Python e E-mail\n",
    "\n",
    "### Descrição\n",
    "\n",
    "Digamos que você trabalha em uma indústria e está responsável pela área de inteligência de negócio.\n",
    "\n",
    "Todo dia, você, a equipe ou até mesmo um programa, gera um report diferente para cada área da empresa:\n",
    "- Financeiro\n",
    "- Logística\n",
    "- Manutenção\n",
    "- Marketing\n",
    "- Operações\n",
    "- Produção\n",
    "- Vendas\n",
    "\n",
    "Cada um desses reports deve ser enviado por e-mail para o Gerente de cada Área.\n",
    "\n",
    "Crie um programa que faça isso automaticamente. A relação de Gerentes (com seus respectivos e-mails) e áreas está no arquivo 'Enviar E-mails.xlsx'.\n",
    "\n",
    "Dica: Use o pandas read_excel para ler o arquivo dos e-mails que isso vai facilitar."
   ]
  },
  {
   "cell_type": "code",
   "execution_count": 8,
   "metadata": {
    "id": "O3QQdhePNTq4"
   },
   "outputs": [],
   "source": [
    "# Imports\n",
    "import win32com.client as win32\n",
    "import pandas as pd\n",
    "from pathlib import Path\n",
    "\n",
    "outlook = win32.Dispatch('outlook.application')"
   ]
  },
  {
   "cell_type": "code",
   "execution_count": 12,
   "metadata": {},
   "outputs": [],
   "source": [
    "# Resolução\n",
    "gerentes_df = pd.read_excel('Enviar E-mails.xlsx')\n",
    "\n",
    "for i, email in enumerate(gerentes_df['E-mail']):\n",
    "    area = gerentes_df.loc[i, 'Relatório']\n",
    "    nome = gerentes_df.loc[i, 'Gerente']\n",
    "    \n",
    "    mail = outlook.CreateItem(0)\n",
    "    mail.To = email\n",
    "    mail.Subject = f'Relatório de {area}'\n",
    "    mail.Body = f'''Olá {nome},\n",
    "    \n",
    "    Segue em anexo o relatório de {area}\n",
    "    '''\n",
    "    #ou mail.HTMLBody = '<p>Corpo do Email em HTML</p>'\n",
    "\n",
    "    # Anexos (pode colocar quantos quiser):\n",
    "    attachment  = r'C:/Users/lucas/OneDrive/Documentos/Programação/Python Scripts/Curso Python Impressionador/Integração Python e email/Desafio/{}.xlsx'.format(area)\n",
    "    mail.Attachments.Add(attachment)\n",
    "\n",
    "    mail.Send()"
   ]
  }
 ],
 "metadata": {
  "colab": {
   "collapsed_sections": [],
   "name": "Desafio Python com Email 01.ipynb",
   "provenance": []
  },
  "kernelspec": {
   "display_name": "Python 3 (ipykernel)",
   "language": "python",
   "name": "python3"
  },
  "language_info": {
   "codemirror_mode": {
    "name": "ipython",
    "version": 3
   },
   "file_extension": ".py",
   "mimetype": "text/x-python",
   "name": "python",
   "nbconvert_exporter": "python",
   "pygments_lexer": "ipython3",
   "version": "3.9.7"
  }
 },
 "nbformat": 4,
 "nbformat_minor": 1
}
