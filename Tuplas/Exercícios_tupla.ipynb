{
 "cells": [
  {
   "cell_type": "markdown",
   "metadata": {},
   "source": [
    "# Exercícios\n",
    "\n",
    "São exercícios bem parecidos com os que fizemos com listas. Mas na tupla, podemos não só trabalhar com índices, mas fazer o \"unpacking\" das tuplas, o que pode facilitar nossos códigos.\n",
    "\n",
    "## 1. Análise de Vendas\n",
    "\n",
    "Nesse exercício vamos fazer uma \"análise simples\" de atingimento de Meta.\n",
    "\n",
    "Temos uma lista com os vendedores e os valores de vendas e queremos identificar (printar) quais os vendedores que bateram a meta e qual foi o valor que eles venderam."
   ]
  },
  {
   "cell_type": "code",
   "execution_count": 1,
   "metadata": {},
   "outputs": [
    {
     "name": "stdout",
     "output_type": "stream",
     "text": [
      "João bateu a meta com 15,000 vendas\n",
      "Julia bateu a meta com 27,000 vendas\n",
      "Ana bateu a meta com 10,300 vendas\n"
     ]
    }
   ],
   "source": [
    "meta = 10000\n",
    "vendas = [\n",
    "    ('João', 15000),\n",
    "    ('Julia', 27000),\n",
    "    ('Marcus', 9900),\n",
    "    ('Maria', 3750),\n",
    "    ('Ana', 10300),\n",
    "    ('Alon', 7870),\n",
    "]\n",
    "\n",
    "for nome, venda in vendas:\n",
    "    if venda >= meta:\n",
    "        print(\"{} bateu a meta com {:,} vendas\".format(nome, venda))"
   ]
  },
  {
   "cell_type": "markdown",
   "metadata": {},
   "source": [
    "## 2. Comparação com Ano Anterior\n",
    "\n",
    "Digamos que você está analisando as vendas de produtos de um ecommerce e quer identificar quais produtos tiveram no ano de 2020 mais vendas do que no ano de 2019, para reportar isso para a diretoria.\n",
    "\n",
    "Sua resposta pode ser um print de cada produto, qual foi a venda de 2019, a venda de 2020 e o % de crescimento de 2020 para 2019.\n",
    "\n",
    "Lembrando, para calcular o % de crescimento de um produto de um ano para o outro, podemos fazer: (vendas_produto2020/vendas_produto2019 - 1)\n",
    "\n",
    "A lógica da tupla é: (produto, vendas2019, vendas2020)"
   ]
  },
  {
   "cell_type": "code",
   "execution_count": 2,
   "metadata": {},
   "outputs": [
    {
     "name": "stdout",
     "output_type": "stream",
     "text": [
      "iphone vendeu 558,147 em 2019, 951,642 em 2020, com crescimento de 71%\n",
      "tv vendeu 405,252 em 2019, 787,604 em 2020, com crescimento de 94%\n",
      "máquina de café vendeu 718,654 em 2019, 867,660 em 2020, com crescimento de 21%\n",
      "notebook dell vendeu 422,760 em 2019, 694,913 em 2020, com crescimento de 64%\n",
      "notebook hp vendeu 154,753 em 2019, 539,704 em 2020, com crescimento de 249%\n",
      "microsoft surface vendeu 438,508 em 2019, 667,179 em 2020, com crescimento de 52%\n",
      "webcam vendeu 237,467 em 2019, 295,633 em 2020, com crescimento de 24%\n",
      "caixa de som vendeu 489,705 em 2019, 725,316 em 2020, com crescimento de 48%\n",
      "microfone vendeu 328,311 em 2019, 644,622 em 2020, com crescimento de 96%\n",
      "câmera canon vendeu 591,120 em 2019, 994,303 em 2020, com crescimento de 68%\n"
     ]
    }
   ],
   "source": [
    "vendas_produtos = [('iphone', 558147, 951642), ('galaxy', 712350, 244295), ('ipad', 573823, 26964), ('tv', 405252, 787604), ('máquina de café', 718654, 867660), ('kindle', 531580, 78830), ('geladeira', 973139, 710331), ('adega', 892292, 646016), ('notebook dell', 422760, 694913), ('notebook hp', 154753, 539704), ('notebook asus', 887061, 324831), ('microsoft surface', 438508, 667179), ('webcam', 237467, 295633), ('caixa de som', 489705, 725316), ('microfone', 328311, 644622), ('câmera canon', 591120, 994303)]\n",
    "\n",
    "#seu código aqui\n",
    "for produto, venda2019, venda2020 in vendas_produtos:\n",
    "    if venda2020 > venda2019:\n",
    "        print(\"{} vendeu {:,} em 2019, {:,} em 2020, com crescimento de {:.0%}\".format(produto, venda2019, venda2020, (venda2020/venda2019)-1))"
   ]
  }
 ],
 "metadata": {
  "kernelspec": {
   "display_name": "Python 3 (ipykernel)",
   "language": "python",
   "name": "python3"
  },
  "language_info": {
   "codemirror_mode": {
    "name": "ipython",
    "version": 3
   },
   "file_extension": ".py",
   "mimetype": "text/x-python",
   "name": "python",
   "nbconvert_exporter": "python",
   "pygments_lexer": "ipython3",
   "version": "3.9.7"
  }
 },
 "nbformat": 4,
 "nbformat_minor": 4
}
